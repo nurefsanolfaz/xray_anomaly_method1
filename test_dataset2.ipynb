{
 "cells": [
  {
   "cell_type": "code",
   "execution_count": 1,
   "id": "cc096838",
   "metadata": {},
   "outputs": [],
   "source": [
    "import os\n",
    "import numpy as np\n",
    "import joblib\n",
    "from sklearn.preprocessing import LabelEncoder\n",
    "from sklearn.metrics import classification_report\n",
    "\n",
    "# Proje kök dizini\n",
    "proj_root = \"/Users/nurefsanolfaz/yap470_project/xray_anomaly_method1\"\n",
    "os.chdir(proj_root)\n",
    "\n",
    "# Combined öznitelikler için test seti (SVM, MLP, KNN için)\n",
    "X_test_combined = np.load(\"features/dataset2/combined/X_test.npy\")\n",
    "y_test_raw = np.load(\"features/dataset2/combined/y_test.npy\")\n",
    "\n",
    "# HOG öznitelikleri için test seti (XGBoost için)\n",
    "X_test_hog = np.load(\"features/dataset2/hog/X_test.npy\")\n",
    "y_test_hog_raw = np.load(\"features/dataset2/hog/y_test.npy\")\n",
    "\n",
    "# LabelEncoder ile y_test encode et\n",
    "le_combined = LabelEncoder()\n",
    "le_combined.fit(y_test_raw)  # ['Atelectasis', 'Effusion', ...] sırası korunur\n",
    "y_test_combined = le_combined.transform(y_test_raw)\n",
    "\n",
    "le_hog = LabelEncoder()\n",
    "le_hog.fit(y_test_hog_raw)\n",
    "y_test_hog = le_hog.transform(y_test_hog_raw)\n",
    "\n",
    "# Sınıf isimleri\n",
    "label_names_combined = le_combined.classes_\n",
    "label_names_hog = le_hog.classes_"
   ]
  },
  {
   "cell_type": "markdown",
   "id": "589054df",
   "metadata": {},
   "source": [
    "1. SVM – final_svm_combined.pkl"
   ]
  },
  {
   "cell_type": "code",
   "execution_count": 2,
   "id": "42b82a20",
   "metadata": {},
   "outputs": [
    {
     "name": "stdout",
     "output_type": "stream",
     "text": [
      "\n",
      "[Dataset2 – SVM Combined Test Sonucu]\n",
      "              precision    recall  f1-score   support\n",
      "\n",
      " Atelectasis       0.34      0.34      0.34       450\n",
      "    Effusion       0.37      0.44      0.40       450\n",
      "Infiltration       0.26      0.18      0.21       450\n",
      "  No_Finding       0.40      0.46      0.43       450\n",
      "      Nodule       0.32      0.31      0.31       450\n",
      "\n",
      "    accuracy                           0.35      2250\n",
      "   macro avg       0.34      0.35      0.34      2250\n",
      "weighted avg       0.34      0.35      0.34      2250\n",
      "\n"
     ]
    }
   ],
   "source": [
    "svm_model = joblib.load(\"models/dataset2/final_svm_combined.pkl\")\n",
    "y_pred = svm_model.predict(X_test_combined)\n",
    "\n",
    "print(\"\\n[Dataset2 – SVM Combined Test Sonucu]\")\n",
    "print(classification_report(y_test_combined, y_pred, target_names=label_names_combined))"
   ]
  },
  {
   "cell_type": "markdown",
   "id": "a3c1871c",
   "metadata": {},
   "source": [
    " 2. MLP – final_mlp_combined.pkl"
   ]
  },
  {
   "cell_type": "code",
   "execution_count": 5,
   "id": "60853869",
   "metadata": {},
   "outputs": [
    {
     "name": "stdout",
     "output_type": "stream",
     "text": [
      "\n",
      "[Dataset2 – MLP Combined Test Sonucu]\n",
      "              precision    recall  f1-score   support\n",
      "\n",
      " Atelectasis       0.25      0.16      0.19       450\n",
      "    Effusion       0.29      0.35      0.32       450\n",
      "Infiltration       0.24      0.30      0.27       450\n",
      "  No_Finding       0.30      0.31      0.31       450\n",
      "      Nodule       0.24      0.21      0.23       450\n",
      "\n",
      "    accuracy                           0.27      2250\n",
      "   macro avg       0.26      0.27      0.26      2250\n",
      "weighted avg       0.26      0.27      0.26      2250\n",
      "\n"
     ]
    }
   ],
   "source": [
    "# Verileri yükle\n",
    "X_test_combined = np.load(\"features/dataset2/combined/X_test.npy\")\n",
    "y_test_raw = np.load(\"features/dataset2/combined/y_test.npy\")\n",
    "\n",
    "# Modeli yükle\n",
    "mlp_model = joblib.load(\"models/dataset2/final_mlp_combined.pkl\")\n",
    "\n",
    "# Tahmin yap\n",
    "y_pred_raw = mlp_model.predict(X_test_combined)\n",
    "\n",
    "# Label encoder ile test verisini ve tahminleri aynı formata çevir\n",
    "le = LabelEncoder()\n",
    "le.fit(y_test_raw)  # ['Atelectasis', 'Effusion', ...]\n",
    "y_test = le.transform(y_test_raw)\n",
    "y_pred = le.transform(y_pred_raw)  # işte bu düzeltmeyi yapıyoruz 🔧\n",
    "\n",
    "# Rapor yazdır\n",
    "print(\"\\n[Dataset2 – MLP Combined Test Sonucu]\")\n",
    "print(classification_report(y_test, y_pred, target_names=le.classes_))"
   ]
  },
  {
   "cell_type": "markdown",
   "id": "7a9d116c",
   "metadata": {},
   "source": [
    "3. XGBoost – final_xgb_combined.pkl (HOG tabanlı)"
   ]
  },
  {
   "cell_type": "code",
   "execution_count": 6,
   "id": "6ea7f6fa",
   "metadata": {},
   "outputs": [
    {
     "name": "stdout",
     "output_type": "stream",
     "text": [
      "\n",
      "[Dataset2 – XGBoost HOG Test Sonucu]\n",
      "              precision    recall  f1-score   support\n",
      "\n",
      " Atelectasis       0.28      0.29      0.28       450\n",
      "    Effusion       0.29      0.36      0.32       450\n",
      "Infiltration       0.21      0.09      0.13       450\n",
      "  No_Finding       0.36      0.39      0.38       450\n",
      "      Nodule       0.27      0.33      0.30       450\n",
      "\n",
      "    accuracy                           0.29      2250\n",
      "   macro avg       0.28      0.29      0.28      2250\n",
      "weighted avg       0.28      0.29      0.28      2250\n",
      "\n"
     ]
    }
   ],
   "source": [
    "xgb_model = joblib.load(\"models/dataset2/final_xgb_combined.pkl\")\n",
    "y_pred = xgb_model.predict(X_test_hog)\n",
    "\n",
    "print(\"\\n[Dataset2 – XGBoost HOG Test Sonucu]\")\n",
    "print(classification_report(y_test_hog, y_pred, target_names=label_names_hog))"
   ]
  },
  {
   "cell_type": "markdown",
   "id": "38d0b647",
   "metadata": {},
   "source": [
    "4. KNN – final_knn_combined.pkl"
   ]
  },
  {
   "cell_type": "code",
   "execution_count": 7,
   "id": "d12df9e0",
   "metadata": {},
   "outputs": [
    {
     "name": "stdout",
     "output_type": "stream",
     "text": [
      "\n",
      "[Dataset2 – KNN Combined Test Sonucu]\n",
      "              precision    recall  f1-score   support\n",
      "\n",
      " Atelectasis       0.26      0.33      0.29       450\n",
      "    Effusion       0.31      0.32      0.31       450\n",
      "Infiltration       0.23      0.20      0.22       450\n",
      "  No_Finding       0.31      0.31      0.31       450\n",
      "      Nodule       0.28      0.23      0.25       450\n",
      "\n",
      "    accuracy                           0.28      2250\n",
      "   macro avg       0.28      0.28      0.28      2250\n",
      "weighted avg       0.28      0.28      0.28      2250\n",
      "\n"
     ]
    }
   ],
   "source": [
    "knn_model = joblib.load(\"models/dataset2/final_knn_combined.pkl\")\n",
    "y_pred = knn_model.predict(X_test_combined)\n",
    "\n",
    "print(\"\\n[Dataset2 – KNN Combined Test Sonucu]\")\n",
    "print(classification_report(y_test_combined, y_pred, target_names=label_names_combined))"
   ]
  }
 ],
 "metadata": {
  "kernelspec": {
   "display_name": ".venv",
   "language": "python",
   "name": "python3"
  },
  "language_info": {
   "codemirror_mode": {
    "name": "ipython",
    "version": 3
   },
   "file_extension": ".py",
   "mimetype": "text/x-python",
   "name": "python",
   "nbconvert_exporter": "python",
   "pygments_lexer": "ipython3",
   "version": "3.13.2"
  }
 },
 "nbformat": 4,
 "nbformat_minor": 5
}
