{
 "cells": [
  {
   "cell_type": "code",
   "execution_count": 1,
   "id": "4e35b808",
   "metadata": {},
   "outputs": [
    {
     "name": "stdout",
     "output_type": "stream",
     "text": [
      "Çalışma dizini: /Users/nurefsanolfaz/yap470_project/xray_anomaly_method1\n",
      "HOG shape: (10500, 8100)\n",
      "LBP shape: (10500, 10)\n",
      "Haralick shape: (10500, 13)\n",
      "Combined shape: (10500, 8123)\n"
     ]
    }
   ],
   "source": [
    "import os, sys, numpy as np\n",
    "\n",
    "# Proje köküne geç\n",
    "proj_root = \"/Users/nurefsanolfaz/yap470_project/xray_anomaly_method1\"\n",
    "os.chdir(proj_root)\n",
    "sys.path.insert(0, proj_root)\n",
    "\n",
    "print(\"Çalışma dizini:\", os.getcwd())\n",
    "\n",
    "# Öznitelikleri içe aktarın (dilediğiniz klasörü seçin)\n",
    "X_hog   = np.load(\"features/dataset2/hog/X_train.npy\")\n",
    "X_lbp   = np.load(\"features/dataset2/lbp/X_train.npy\")\n",
    "X_har   = np.load(\"features/dataset2/haralick/X_train.npy\")\n",
    "\n",
    "print(\"HOG shape:\", X_hog.shape)\n",
    "print(\"LBP shape:\", X_lbp.shape)\n",
    "print(\"Haralick shape:\", X_har.shape)\n",
    "print(\"Combined shape:\", np.hstack([X_hog, X_lbp, X_har]).shape)\n"
   ]
  },
  {
   "cell_type": "code",
   "execution_count": 2,
   "id": "64953ec9",
   "metadata": {},
   "outputs": [
    {
     "name": "stdout",
     "output_type": "stream",
     "text": [
      "HOG shape: (7750, 8100)\n",
      "LBP shape: (7750, 10)\n",
      "Haralick shape: (7750, 13)\n",
      "Combined shape: (7750, 8123)\n"
     ]
    }
   ],
   "source": [
    "\n",
    "\n",
    "# Öznitelikleri içe aktarın (dilediğiniz klasörü seçin)\n",
    "X_hog   = np.load(\"features/dataset1/hog/X_train.npy\")\n",
    "X_lbp   = np.load(\"features/dataset1/lbp/X_train.npy\")\n",
    "X_har   = np.load(\"features/dataset1/haralick/X_train.npy\")\n",
    "\n",
    "print(\"HOG shape:\", X_hog.shape)\n",
    "print(\"LBP shape:\", X_lbp.shape)\n",
    "print(\"Haralick shape:\", X_har.shape)\n",
    "print(\"Combined shape:\", np.hstack([X_hog, X_lbp, X_har]).shape)\n"
   ]
  }
 ],
 "metadata": {
  "kernelspec": {
   "display_name": ".venv",
   "language": "python",
   "name": "python3"
  },
  "language_info": {
   "codemirror_mode": {
    "name": "ipython",
    "version": 3
   },
   "file_extension": ".py",
   "mimetype": "text/x-python",
   "name": "python",
   "nbconvert_exporter": "python",
   "pygments_lexer": "ipython3",
   "version": "3.13.2"
  }
 },
 "nbformat": 4,
 "nbformat_minor": 5
}
