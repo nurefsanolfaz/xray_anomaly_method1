{
 "cells": [
  {
   "cell_type": "code",
   "execution_count": 14,
   "id": "c7283083",
   "metadata": {},
   "outputs": [
    {
     "name": "stdout",
     "output_type": "stream",
     "text": [
      "Çalışma dizini: /Users/nurefsanolfaz/yap470_project/xray_anomaly_method1\n"
     ]
    }
   ],
   "source": [
    "import os, sys\n",
    "\n",
    "# Proje köküne geç\n",
    "proj_root = \"/Users/nurefsanolfaz/yap470_project/xray_anomaly_method1\"\n",
    "os.chdir(proj_root)\n",
    "sys.path.insert(0, proj_root)\n",
    "\n",
    "print(\"Çalışma dizini:\", os.getcwd())"
   ]
  },
  {
   "cell_type": "code",
   "execution_count": 15,
   "id": "199aa5c8",
   "metadata": {},
   "outputs": [],
   "source": [
    "import numpy as np\n",
    "from sklearn.metrics import classification_report, accuracy_score\n",
    "from sklearn.model_selection import GridSearchCV\n",
    "from src.method1.model_pipeline import build_pipeline\n",
    "from src.method1.evaluate import evaluate_model\n",
    "from sklearn.neighbors import KNeighborsClassifier\n",
    "import joblib"
   ]
  },
  {
   "cell_type": "code",
   "execution_count": 16,
   "id": "36e68896",
   "metadata": {},
   "outputs": [],
   "source": [
    "os.makedirs(\"models/dataset1\", exist_ok=True)\n"
   ]
  },
  {
   "cell_type": "markdown",
   "id": "ed3544b9",
   "metadata": {},
   "source": [
    "Literatürde LBP+KNN birleşiminin optimal olduğu söylenmişti (ara rapor 1 [7]). Ancak aşağıda denememizde 0.6875 accuracy ile HOG+SVM kadar iyi olmadığını gördük. Bu aykırılık hiperparametre seçimi farklılığından kaynaklanabilir. "
   ]
  },
  {
   "cell_type": "code",
   "execution_count": 17,
   "id": "87a203ae",
   "metadata": {},
   "outputs": [],
   "source": [
    "FEATURE_DIR = \"features/dataset1/lbp\"  # alternatif: 'hog', 'lbp', 'haralick'\n",
    "\n",
    "X_train = np.load(os.path.join(FEATURE_DIR, \"X_train.npy\"))\n",
    "y_train = np.load(os.path.join(FEATURE_DIR, \"y_train.npy\"))\n",
    "X_val = np.load(os.path.join(FEATURE_DIR, \"X_val.npy\"))\n",
    "y_val = np.load(os.path.join(FEATURE_DIR, \"y_val.npy\"))\n",
    "X_test = np.load(os.path.join(FEATURE_DIR, \"X_test.npy\"))\n",
    "y_test = np.load(os.path.join(FEATURE_DIR, \"y_test.npy\"))\n"
   ]
  },
  {
   "cell_type": "code",
   "execution_count": 18,
   "id": "32f79297",
   "metadata": {},
   "outputs": [
    {
     "name": "stdout",
     "output_type": "stream",
     "text": [
      "\n",
      "[INFO] Model eğitiliyor...\n",
      "[INFO] Validation Accuracy: 0.6875\n",
      "\n",
      "[INFO] Test set classification report:\n",
      "              precision    recall  f1-score   support\n",
      "\n",
      "      NORMAL       0.73      0.70      0.71       234\n",
      "   PNEUMONIA       0.82      0.85      0.83       390\n",
      "\n",
      "    accuracy                           0.79       624\n",
      "   macro avg       0.78      0.77      0.77       624\n",
      "weighted avg       0.79      0.79      0.79       624\n",
      "\n"
     ]
    },
    {
     "data": {
      "text/plain": [
       "['models/dataset1/pipeline_lbp_7nn.pkl']"
      ]
     },
     "execution_count": 18,
     "metadata": {},
     "output_type": "execute_result"
    }
   ],
   "source": [
    "knn = KNeighborsClassifier(n_neighbors=7)\n",
    "pipeline_lbp_7nn = build_pipeline(knn, use_pca=True, use_scaler=True)\n",
    "\n",
    "# Modeli eğit ve değerlendir\n",
    "evaluate_model(pipeline_lbp_7nn, X_train, y_train, X_val, y_val, X_test, y_test)\n",
    "\n",
    "joblib.dump(pipeline_lbp_7nn, \"models/dataset1/pipeline_lbp_7nn.pkl\")\n"
   ]
  },
  {
   "cell_type": "markdown",
   "id": "8cf9b6c3",
   "metadata": {},
   "source": [
    "HOG + SVM ikilisi literatür araştırmalarında da öne çıkan ve ikili sınıflandırma problemlerinde faydalı olan bir birleşimdir. Model validation setine çok iyi uyum sağladı, ama gerçek dünya test setinde NORMAL sınıfını ayırt etmekte başarısız."
   ]
  },
  {
   "cell_type": "code",
   "execution_count": 19,
   "id": "6e5d42ee",
   "metadata": {},
   "outputs": [],
   "source": [
    "FEATURE_DIR = \"features/dataset1/hog\"  # alternatif: 'hog', 'lbp', 'haralick'\n",
    "\n",
    "X_train = np.load(os.path.join(FEATURE_DIR, \"X_train.npy\"))\n",
    "y_train = np.load(os.path.join(FEATURE_DIR, \"y_train.npy\"))\n",
    "X_val = np.load(os.path.join(FEATURE_DIR, \"X_val.npy\"))\n",
    "y_val = np.load(os.path.join(FEATURE_DIR, \"y_val.npy\"))\n",
    "X_test = np.load(os.path.join(FEATURE_DIR, \"X_test.npy\"))\n",
    "y_test = np.load(os.path.join(FEATURE_DIR, \"y_test.npy\"))\n"
   ]
  },
  {
   "cell_type": "code",
   "execution_count": 20,
   "id": "aadbd8b5",
   "metadata": {},
   "outputs": [
    {
     "name": "stdout",
     "output_type": "stream",
     "text": [
      "\n",
      "[INFO] Model eğitiliyor...\n",
      "[INFO] Validation Accuracy: 1.0000\n",
      "\n",
      "[INFO] Test set classification report:\n",
      "              precision    recall  f1-score   support\n",
      "\n",
      "      NORMAL       0.98      0.39      0.56       234\n",
      "   PNEUMONIA       0.73      0.99      0.84       390\n",
      "\n",
      "    accuracy                           0.77       624\n",
      "   macro avg       0.85      0.69      0.70       624\n",
      "weighted avg       0.82      0.77      0.74       624\n",
      "\n"
     ]
    },
    {
     "data": {
      "text/plain": [
       "['models/dataset1/pipeline_hog_svm_rbf.pkl']"
      ]
     },
     "execution_count": 20,
     "metadata": {},
     "output_type": "execute_result"
    }
   ],
   "source": [
    "from sklearn.svm import SVC\n",
    "\n",
    "svm = SVC(kernel='rbf', C=1)\n",
    "pipeline_hog_svm_rbf = build_pipeline(svm, use_pca=True, use_scaler=True)\n",
    "\n",
    "# Modeli eğit ve değerlendir\n",
    "evaluate_model(pipeline_hog_svm_rbf, X_train, y_train, X_val, y_val, X_test, y_test)\n",
    "\n",
    "joblib.dump(pipeline_hog_svm_rbf, \"models/dataset1/pipeline_hog_svm_rbf.pkl\")\n"
   ]
  },
  {
   "cell_type": "code",
   "execution_count": 21,
   "id": "1f8496c2",
   "metadata": {},
   "outputs": [],
   "source": [
    "FEATURE_DIR = \"features/dataset1/combined\"  # alternatif: 'hog', 'lbp', 'haralick'\n",
    "\n",
    "X_train = np.load(os.path.join(FEATURE_DIR, \"X_train.npy\"))\n",
    "y_train = np.load(os.path.join(FEATURE_DIR, \"y_train.npy\"))\n",
    "X_val = np.load(os.path.join(FEATURE_DIR, \"X_val.npy\"))\n",
    "y_val = np.load(os.path.join(FEATURE_DIR, \"y_val.npy\"))\n",
    "X_test = np.load(os.path.join(FEATURE_DIR, \"X_test.npy\"))\n",
    "y_test = np.load(os.path.join(FEATURE_DIR, \"y_test.npy\"))\n",
    "\n",
    "\n"
   ]
  },
  {
   "cell_type": "code",
   "execution_count": 22,
   "id": "1eed9eac",
   "metadata": {},
   "outputs": [
    {
     "name": "stdout",
     "output_type": "stream",
     "text": [
      "\n",
      "[INFO] Model eğitiliyor...\n",
      "[INFO] Validation Accuracy: 1.0000\n",
      "\n",
      "[INFO] Test set classification report:\n",
      "              precision    recall  f1-score   support\n",
      "\n",
      "      NORMAL       0.98      0.39      0.56       234\n",
      "   PNEUMONIA       0.73      0.99      0.84       390\n",
      "\n",
      "    accuracy                           0.77       624\n",
      "   macro avg       0.86      0.69      0.70       624\n",
      "weighted avg       0.82      0.77      0.74       624\n",
      "\n"
     ]
    },
    {
     "data": {
      "text/plain": [
       "['models/dataset1/pipeline_combined_svm_rbf.pkl']"
      ]
     },
     "execution_count": 22,
     "metadata": {},
     "output_type": "execute_result"
    }
   ],
   "source": [
    "svm = SVC(kernel='rbf', C=1)\n",
    "pipeline_combined_svm_rbf = build_pipeline(svm, use_pca=True, use_scaler=True)\n",
    "\n",
    "# Modeli eğit ve değerlendir\n",
    "evaluate_model(pipeline_combined_svm_rbf, X_train, y_train, X_val, y_val, X_test, y_test)\n",
    "\n",
    "joblib.dump(pipeline_combined_svm_rbf, \"models/dataset1/pipeline_combined_svm_rbf.pkl\")\n"
   ]
  },
  {
   "cell_type": "code",
   "execution_count": 23,
   "id": "9c721ba0",
   "metadata": {},
   "outputs": [
    {
     "name": "stdout",
     "output_type": "stream",
     "text": [
      "\n",
      "[INFO] Model eğitiliyor...\n",
      "[INFO] Validation Accuracy: 0.9375\n",
      "\n",
      "[INFO] Test set classification report:\n",
      "              precision    recall  f1-score   support\n",
      "\n",
      "      NORMAL       0.95      0.35      0.51       234\n",
      "   PNEUMONIA       0.72      0.99      0.83       390\n",
      "\n",
      "    accuracy                           0.75       624\n",
      "   macro avg       0.83      0.67      0.67       624\n",
      "weighted avg       0.80      0.75      0.71       624\n",
      "\n"
     ]
    },
    {
     "data": {
      "text/plain": [
       "['models/dataset1/pipeline_combined_svm_linear.pkl']"
      ]
     },
     "execution_count": 23,
     "metadata": {},
     "output_type": "execute_result"
    }
   ],
   "source": [
    "svm = SVC(kernel='linear', C=1)\n",
    "pipeline_combined_svm_linear = build_pipeline(svm, use_pca=True, use_scaler=True)\n",
    "\n",
    "# Modeli eğit ve değerlendir\n",
    "evaluate_model(pipeline_combined_svm_linear, X_train, y_train, X_val, y_val, X_test, y_test)\n",
    "\n",
    "joblib.dump(pipeline_combined_svm_linear, \"models/dataset1/pipeline_combined_svm_linear.pkl\")"
   ]
  },
  {
   "cell_type": "code",
   "execution_count": 24,
   "id": "99142b7a",
   "metadata": {},
   "outputs": [],
   "source": [
    "FEATURE_DIR = \"features/dataset1/hog_lbp\"  # alternatif: 'hog', 'lbp', 'haralick'\n",
    "\n",
    "X_train = np.load(os.path.join(FEATURE_DIR, \"X_train.npy\"))\n",
    "y_train = np.load(os.path.join(FEATURE_DIR, \"y_train.npy\"))\n",
    "X_val = np.load(os.path.join(FEATURE_DIR, \"X_val.npy\"))\n",
    "y_val = np.load(os.path.join(FEATURE_DIR, \"y_val.npy\"))\n",
    "X_test = np.load(os.path.join(FEATURE_DIR, \"X_test.npy\"))\n",
    "y_test = np.load(os.path.join(FEATURE_DIR, \"y_test.npy\"))\n",
    "\n",
    "\n"
   ]
  },
  {
   "cell_type": "code",
   "execution_count": 25,
   "id": "76d9e5aa",
   "metadata": {},
   "outputs": [
    {
     "name": "stdout",
     "output_type": "stream",
     "text": [
      "\n",
      "[INFO] Model eğitiliyor...\n",
      "[INFO] Validation Accuracy: 1.0000\n",
      "\n",
      "[INFO] Test set classification report:\n",
      "              precision    recall  f1-score   support\n",
      "\n",
      "      NORMAL       0.98      0.38      0.55       234\n",
      "   PNEUMONIA       0.73      0.99      0.84       390\n",
      "\n",
      "    accuracy                           0.77       624\n",
      "   macro avg       0.85      0.69      0.70       624\n",
      "weighted avg       0.82      0.77      0.73       624\n",
      "\n"
     ]
    },
    {
     "data": {
      "text/plain": [
       "['models/dataset1/pipeline_hog_lbp_svm_rbf.pkl']"
      ]
     },
     "execution_count": 25,
     "metadata": {},
     "output_type": "execute_result"
    }
   ],
   "source": [
    "svm = SVC(kernel='rbf', C=1)\n",
    "pipeline_hog_lbp_svm_rbf = build_pipeline(svm, use_pca=True, use_scaler=True)\n",
    "\n",
    "# Modeli eğit ve değerlendir\n",
    "evaluate_model(pipeline_hog_lbp_svm_rbf, X_train, y_train, X_val, y_val, X_test, y_test)\n",
    "\n",
    "joblib.dump(pipeline_hog_lbp_svm_rbf, \"models/dataset1/pipeline_hog_lbp_svm_rbf.pkl\")"
   ]
  }
 ],
 "metadata": {
  "kernelspec": {
   "display_name": ".venv",
   "language": "python",
   "name": "python3"
  },
  "language_info": {
   "codemirror_mode": {
    "name": "ipython",
    "version": 3
   },
   "file_extension": ".py",
   "mimetype": "text/x-python",
   "name": "python",
   "nbconvert_exporter": "python",
   "pygments_lexer": "ipython3",
   "version": "3.13.2"
  }
 },
 "nbformat": 4,
 "nbformat_minor": 5
}
