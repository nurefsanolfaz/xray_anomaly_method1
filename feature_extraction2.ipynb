{
 "cells": [
  {
   "cell_type": "code",
   "execution_count": 19,
   "id": "582873e3",
   "metadata": {},
   "outputs": [
    {
     "name": "stdout",
     "output_type": "stream",
     "text": [
      "Çalışma dizini: /Users/nurefsanolfaz/yap470_project/xray_anomaly_method1\n"
     ]
    }
   ],
   "source": [
    "import os, sys\n",
    "\n",
    "# Proje köküne geç\n",
    "proj_root = \"/Users/nurefsanolfaz/yap470_project/xray_anomaly_method1\"\n",
    "os.chdir(proj_root)\n",
    "sys.path.insert(0, proj_root)\n",
    "\n",
    "print(\"Çalışma dizini:\", os.getcwd())"
   ]
  },
  {
   "cell_type": "code",
   "execution_count": 20,
   "id": "02196b0f",
   "metadata": {},
   "outputs": [],
   "source": [
    "import numpy as np\n",
    "from src.method1.features import extract_features_from_folder\n"
   ]
  },
  {
   "cell_type": "code",
   "execution_count": 21,
   "id": "b4209888",
   "metadata": {},
   "outputs": [],
   "source": [
    "DATA_DIR = \"data/processed/dataset2_5_classes\"\n",
    "SPLITS = [\"train\", \"val\", \"test\"]\n"
   ]
  },
  {
   "cell_type": "code",
   "execution_count": 22,
   "id": "cc79912d",
   "metadata": {},
   "outputs": [],
   "source": [
    "def extract_and_save(method, out_dir):\n",
    "    os.makedirs(out_dir, exist_ok=True)\n",
    "\n",
    "    for split in SPLITS:\n",
    "        print(f\"{split.upper()} için {method.upper()} çıkarılıyor...\")\n",
    "        split_path = os.path.join(DATA_DIR, split)\n",
    "        X, y = extract_features_from_folder(split_path, method=method)\n",
    "        np.save(os.path.join(out_dir, f\"X_{split}.npy\"), X)\n",
    "        np.save(os.path.join(out_dir, f\"y_{split}.npy\"), y)\n"
   ]
  },
  {
   "cell_type": "code",
   "execution_count": 23,
   "id": "7f82581c",
   "metadata": {},
   "outputs": [
    {
     "name": "stdout",
     "output_type": "stream",
     "text": [
      "TRAIN için HOG çıkarılıyor...\n",
      "VAL için HOG çıkarılıyor...\n",
      "TEST için HOG çıkarılıyor...\n",
      "TRAIN için LBP çıkarılıyor...\n",
      "VAL için LBP çıkarılıyor...\n",
      "TEST için LBP çıkarılıyor...\n",
      "TRAIN için HARALICK çıkarılıyor...\n",
      "VAL için HARALICK çıkarılıyor...\n",
      "TEST için HARALICK çıkarılıyor...\n"
     ]
    }
   ],
   "source": [
    "extract_and_save(\"hog\", \"features/dataset2/hog\")\n",
    "extract_and_save(\"lbp\", \"features/dataset2/lbp\")\n",
    "extract_and_save(\"haralick\", \"features/dataset2/haralick\")\n"
   ]
  },
  {
   "cell_type": "code",
   "execution_count": 24,
   "id": "a924291a",
   "metadata": {},
   "outputs": [],
   "source": [
    "def combine_features(methods, out_dir):\n",
    "    os.makedirs(out_dir, exist_ok=True)\n",
    "\n",
    "    for split in SPLITS:\n",
    "        features = [np.load(f\"features/dataset2/{m}/X_{split}.npy\") for m in methods]\n",
    "        y = np.load(f\"features/dataset2/{methods[0]}/y_{split}.npy\")\n",
    "        X_combined = np.concatenate(features, axis=1)\n",
    "        np.save(os.path.join(out_dir, f\"X_{split}.npy\"), X_combined)\n",
    "        np.save(os.path.join(out_dir, f\"y_{split}.npy\"), y)\n"
   ]
  },
  {
   "cell_type": "code",
   "execution_count": 25,
   "id": "8acf4dd3",
   "metadata": {},
   "outputs": [],
   "source": [
    "combine_features([\"hog\", \"lbp\", \"haralick\"], \"features/dataset2/combined\")"
   ]
  },
  {
   "cell_type": "code",
   "execution_count": 26,
   "id": "b05743e5",
   "metadata": {},
   "outputs": [],
   "source": [
    "# HOG + LBP özniteliklerini birleştir ve kaydet\n",
    "combine_features(\n",
    "    [\"hog\", \"lbp\"], \n",
    "    \"features/dataset2/hog_lbp\"\n",
    ")\n"
   ]
  },
  {
   "cell_type": "code",
   "execution_count": 27,
   "id": "a766262a",
   "metadata": {},
   "outputs": [],
   "source": [
    "# hog + haralick özniteliklerini birleştir ve kaydet\n",
    "combine_features(\n",
    "    [\"hog\", \"haralick\"], \n",
    "    \"features/dataset2/hog_haralick\"\n",
    ")\n"
   ]
  }
 ],
 "metadata": {
  "kernelspec": {
   "display_name": ".venv",
   "language": "python",
   "name": "python3"
  },
  "language_info": {
   "codemirror_mode": {
    "name": "ipython",
    "version": 3
   },
   "file_extension": ".py",
   "mimetype": "text/x-python",
   "name": "python",
   "nbconvert_exporter": "python",
   "pygments_lexer": "ipython3",
   "version": "3.13.2"
  }
 },
 "nbformat": 4,
 "nbformat_minor": 5
}
