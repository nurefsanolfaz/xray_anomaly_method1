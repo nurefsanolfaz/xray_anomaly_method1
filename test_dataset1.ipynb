{
 "cells": [
  {
   "cell_type": "code",
   "execution_count": 2,
   "id": "180dc302",
   "metadata": {},
   "outputs": [],
   "source": [
    "import os\n",
    "import numpy as np\n",
    "import joblib\n",
    "from sklearn.metrics import classification_report\n",
    "\n",
    "# Proje kök dizini\n",
    "proj_root = \"/Users/nurefsanolfaz/yap470_project/xray_anomaly_method1\"\n",
    "os.chdir(proj_root)\n",
    "\n",
    "# Combined özniteliklerden test seti\n",
    "X_test_combined = np.hstack([\n",
    "    np.load(f\"{proj_root}/features/dataset1/hog/X_test.npy\"),\n",
    "    np.load(f\"{proj_root}/features/dataset1/lbp/X_test.npy\"),\n",
    "    np.load(f\"{proj_root}/features/dataset1/haralick/X_test.npy\")\n",
    "])\n",
    "y_test = np.load(f\"{proj_root}/features/dataset1/hog/y_test.npy\")"
   ]
  },
  {
   "cell_type": "markdown",
   "id": "6cf15c64",
   "metadata": {},
   "source": [
    "1. SVM (final_svm_selectk2000.pkl)"
   ]
  },
  {
   "cell_type": "code",
   "execution_count": 3,
   "id": "7de8339b",
   "metadata": {},
   "outputs": [
    {
     "name": "stdout",
     "output_type": "stream",
     "text": [
      "\n",
      "[SVM SelectKBest Test Sonucu]\n",
      "              precision    recall  f1-score   support\n",
      "\n",
      "      NORMAL       0.98      0.40      0.57       234\n",
      "   PNEUMONIA       0.73      0.99      0.84       390\n",
      "\n",
      "    accuracy                           0.77       624\n",
      "   macro avg       0.86      0.70      0.70       624\n",
      "weighted avg       0.83      0.77      0.74       624\n",
      "\n"
     ]
    }
   ],
   "source": [
    "svm_model = joblib.load(f\"{proj_root}/models/dataset1/final_svm_selectk2000.pkl\")\n",
    "\n",
    "y_pred = svm_model.predict(X_test_combined)\n",
    "print(\"\\n[SVM SelectKBest Test Sonucu]\")\n",
    "print(classification_report(y_test, y_pred))"
   ]
  },
  {
   "cell_type": "markdown",
   "id": "2e0a6b03",
   "metadata": {},
   "source": [
    "2. XGBoost (final_xgb_selectk_pca_optimized.pkl)"
   ]
  },
  {
   "cell_type": "code",
   "execution_count": 7,
   "id": "400d09a0",
   "metadata": {},
   "outputs": [
    {
     "name": "stdout",
     "output_type": "stream",
     "text": [
      "\n",
      "[XGBoost SelectKBest + PCA Test Sonucu]\n",
      "              precision    recall  f1-score   support\n",
      "\n",
      "      NORMAL       0.88      0.34      0.49       234\n",
      "   PNEUMONIA       0.71      0.97      0.82       390\n",
      "\n",
      "    accuracy                           0.73       624\n",
      "   macro avg       0.79      0.65      0.65       624\n",
      "weighted avg       0.77      0.73      0.70       624\n",
      "\n"
     ]
    }
   ],
   "source": [
    "\n",
    "from sklearn.preprocessing import LabelEncoder\n",
    "\n",
    "label_names = ['NORMAL', 'PNEUMONIA']\n",
    "le = LabelEncoder()\n",
    "le.fit(label_names)\n",
    "y_test_enc = le.transform(y_test)\n",
    "\n",
    "# === Modeli yükle ===\n",
    "xgb_model = joblib.load(f\"{proj_root}/models/dataset1/final_xgb_selectk_pca_optimized.pkl\")\n",
    "\n",
    "# === Tahmin yap ===\n",
    "y_pred = xgb_model.predict(X_test_combined)\n",
    "\n",
    "# === Raporu string etiketlerle yazdır ===\n",
    "print(\"\\n[XGBoost SelectKBest + PCA Test Sonucu]\")\n",
    "print(classification_report(y_test_enc, y_pred, target_names=label_names))"
   ]
  },
  {
   "cell_type": "markdown",
   "id": "d0701410",
   "metadata": {},
   "source": [
    " 3. KNN (final_knn_combined.pkl)"
   ]
  },
  {
   "cell_type": "code",
   "execution_count": 9,
   "id": "45741e58",
   "metadata": {},
   "outputs": [
    {
     "name": "stdout",
     "output_type": "stream",
     "text": [
      "\n",
      "[KNN Combined + PCA Test Sonucu]\n",
      "              precision    recall  f1-score   support\n",
      "\n",
      "      NORMAL       0.93      0.48      0.64       234\n",
      "   PNEUMONIA       0.76      0.98      0.86       390\n",
      "\n",
      "    accuracy                           0.79       624\n",
      "   macro avg       0.85      0.73      0.75       624\n",
      "weighted avg       0.82      0.79      0.77       624\n",
      "\n"
     ]
    }
   ],
   "source": [
    "# Label encode et (NORMAL → 0, PNEUMONIA → 1)\n",
    "label_names = ['NORMAL', 'PNEUMONIA']\n",
    "le = LabelEncoder()\n",
    "le.fit(label_names)\n",
    "y_test_enc = le.transform(y_test)\n",
    "\n",
    "# Modeli yükle\n",
    "knn_model = joblib.load(f\"{proj_root}/models/dataset1/final_knn_combined.pkl\")\n",
    "\n",
    "# Tahmin yap\n",
    "y_pred = knn_model.predict(X_test_combined)\n",
    "\n",
    "# Raporu string etiketlerle yazdır\n",
    "print(\"\\n[KNN Combined + PCA Test Sonucu]\")\n",
    "print(classification_report(y_test_enc, y_pred, target_names=label_names))"
   ]
  }
 ],
 "metadata": {
  "kernelspec": {
   "display_name": ".venv",
   "language": "python",
   "name": "python3"
  },
  "language_info": {
   "codemirror_mode": {
    "name": "ipython",
    "version": 3
   },
   "file_extension": ".py",
   "mimetype": "text/x-python",
   "name": "python",
   "nbconvert_exporter": "python",
   "pygments_lexer": "ipython3",
   "version": "3.13.2"
  }
 },
 "nbformat": 4,
 "nbformat_minor": 5
}
